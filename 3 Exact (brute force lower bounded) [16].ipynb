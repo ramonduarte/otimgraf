{
 "cells": [
  {
   "cell_type": "code",
   "execution_count": 2,
   "metadata": {},
   "outputs": [],
   "source": [
    "import networkx as nx\n",
    "import matplotlib.pyplot as plt\n",
    "import math\n",
    "import itertools\n",
    "from tqdm import tqdm_notebook as tqdm"
   ]
  },
  {
   "cell_type": "code",
   "execution_count": 3,
   "metadata": {},
   "outputs": [],
   "source": [
    "# Locations in block units\n",
    "_locations = \\\n",
    "      [(4, 4), # depot\n",
    "       (2, 0), (8, 0), # locations to visit\n",
    "       (0, 1), (1, 1),\n",
    "       (5, 2), (7, 2),\n",
    "       (3, 3), (6, 3),\n",
    "       (5, 5), (8, 5),\n",
    "       (1, 6), (2, 6),\n",
    "       (3, 7), (6, 7),\n",
    "       (0, 8), (7, 8)]\n",
    "\n",
    "demands = [0, # depot\n",
    "         1, 1, # row 0\n",
    "         2, 4,\n",
    "         2, 4,\n",
    "         8, 8,\n",
    "         1, 2,\n",
    "         1, 2,\n",
    "         4, 4,\n",
    "         8, 8]\n",
    "\n",
    "capacities = [15, 15, 15, 15]\n",
    "\n",
    "time_windows = \\\n",
    "        [(0, 0),\n",
    "         (75, 85), (75, 85), # 1, 2\n",
    "         (60, 70), (45, 55), # 3, 4\n",
    "         (0, 8), (50, 60), # 5, 6\n",
    "         (0, 10), (10, 20), # 7, 8\n",
    "         (0, 10), (75, 85), # 9, 10\n",
    "         (85, 95), (5, 15), # 11, 12\n",
    "         (15, 25), (10, 20), # 13, 14\n",
    "         (45, 55), (30, 40)] # 15, 16\n",
    "\n"
   ]
  },
  {
   "cell_type": "code",
   "execution_count": 4,
   "metadata": {},
   "outputs": [],
   "source": [
    "def weight(node1: [float,float], node2: [float,float]):\n",
    "    return math.sqrt((node1[0]-node2[0])**2\n",
    "              + (node1[1]-node2[1])**2)\n",
    "\n",
    "def powerset(iterable, lb=1):\n",
    "    \"powerset([1,2,3]) --> () (1,) (2,) (3,) (1,2) (1,3) (2,3) (1,2,3)\"\n",
    "    s = list(iterable)\n",
    "    return itertools.chain.from_iterable(itertools.combinations(s, r) for r in range(lb, len(s)+1))"
   ]
  },
  {
   "cell_type": "code",
   "execution_count": 5,
   "metadata": {},
   "outputs": [],
   "source": [
    "G = nx.Graph(instance=\"Google OR example\")\n",
    "\n",
    "for i in range(len(_locations)):\n",
    "    G.add_node(i, location=_locations[i], demand=demands[i], time_window=time_windows[i], status=0)\n",
    "\n",
    "for i in range(len(_locations)):\n",
    "    for j in range(len(_locations)):\n",
    "        if i >= j:\n",
    "            continue\n",
    "        G.add_edge(i, j,\n",
    "                   weight=math.sqrt(\n",
    "                       (_locations[i][0]-_locations[j][0])**2\n",
    "                       + (_locations[i][1]-_locations[j][1])**2))"
   ]
  },
  {
   "cell_type": "code",
   "execution_count": 6,
   "metadata": {},
   "outputs": [],
   "source": [
    "viable_routes = []\n",
    "total_capacity = sum(capacities)\n",
    "total_demand = sum(demands)\n",
    "lower_bound = total_demand % max(capacities) or max(capacities)\n",
    "\n",
    "for route in powerset(range(1, len(G.nodes))):\n",
    "    demand = 0\n",
    "    viable = True\n",
    "    for i in route:\n",
    "        if not viable:\n",
    "            continue\n",
    "        demand += demands[i]\n",
    "        if demand > max(capacities):\n",
    "            viable = False\n",
    "            break\n",
    "    else:\n",
    "        if demand >= lower_bound:\n",
    "            viable_routes += [[route, demand]]\n",
    "    "
   ]
  },
  {
   "cell_type": "code",
   "execution_count": null,
   "metadata": {},
   "outputs": [
    {
     "data": {
      "application/vnd.jupyter.widget-view+json": {
       "model_id": "325d0820b92041e5bc21e0f08701642b",
       "version_major": 2,
       "version_minor": 0
      },
      "text/plain": [
       "HBox(children=(IntProgress(value=1, bar_style='info', max=1), HTML(value='')))"
      ]
     },
     "metadata": {},
     "output_type": "display_data"
    }
   ],
   "source": [
    "best_route = [[], 99999999999]\n",
    "limit = 1000\n",
    "for solution in tqdm(powerset(viable_routes)):\n",
    "    attended_demand = sum([x[1] for x in solution])\n",
    "    coverage = set(i for x in solution for i in x[0])\n",
    "    # limit -= 1\n",
    "    # if not limit:\n",
    "    #     break\n",
    "    # print (coverage)\n",
    "    if attended_demand == total_demand <= total_capacity and len(coverage) == len(G.nodes) - 1:\n",
    "        total_weight = sum([G.get_edge_data(x[0][i], x[0][i+1])[\"weight\"] for x in solution for i in range(len(x[0])-1)])\n",
    "        if total_weight < best_route[1]:\n",
    "            best_route = [solution, total_weight]\n",
    "best_route"
   ]
  },
  {
   "cell_type": "code",
   "execution_count": 19,
   "metadata": {},
   "outputs": [
    {
     "name": "stdout",
     "output_type": "stream",
     "text": [
      "675 µs ± 41.6 µs per loop (mean ± std. dev. of 7 runs, 1000 loops each)\n"
     ]
    }
   ],
   "source": [
    "%%timeit\n",
    "nx.algorithms.tree.minimum_spanning_tree(G, algorithm=\"kruskal\", weight=\"weight\").edges"
   ]
  },
  {
   "cell_type": "code",
   "execution_count": 17,
   "metadata": {},
   "outputs": [
    {
     "name": "stdout",
     "output_type": "stream",
     "text": [
      "551 µs ± 36.7 µs per loop (mean ± std. dev. of 7 runs, 1000 loops each)\n"
     ]
    }
   ],
   "source": [
    "%%timeit\n",
    "nx.algorithms.tree.minimum_spanning_tree(G, algorithm=\"prim\", weight=\"weight\").edges"
   ]
  },
  {
   "cell_type": "code",
   "execution_count": 16,
   "metadata": {},
   "outputs": [
    {
     "name": "stderr",
     "output_type": "stream",
     "text": [
      "/home/ramon/.local/share/virtualenvs/otimgraf-s98R5NnN/lib/python3.6/site-packages/networkx/drawing/nx_pylab.py:611: MatplotlibDeprecationWarning: isinstance(..., numbers.Number)\n",
      "  if cb.is_numlike(alpha):\n"
     ]
    },
    {
     "data": {
      "image/png": "[encoded data removed]",
      "text/plain": [
       "<Figure size 432x288 with 1 Axes>"
      ]
     },
     "metadata": {},
     "output_type": "display_data"
    }
   ],
   "source": [
    "MST = nx.algorithms.tree.minimum_spanning_tree(G, algorithm=\"prim\", weight=\"weight\")\n",
    "nx.draw(MST)\n",
    "#for node in MST.nodes:\n",
    "    # print(node, MST.degree[node])"
   ]
  },
  {
   "cell_type": "code",
   "execution_count": 14,
   "metadata": {},
   "outputs": [
    {
     "name": "stdout",
     "output_type": "stream",
     "text": [
      "0 1 4.47213595499958\n",
      "0 2 5.656854249492381\n",
      "0 3 5.0\n",
      "0 4 4.242640687119285\n",
      "0 5 2.23606797749979\n",
      "0 6 3.605551275463989\n",
      "0 7 1.4142135623730951\n",
      "0 8 2.23606797749979\n",
      "0 9 1.4142135623730951\n",
      "0 10 4.123105625617661\n",
      "0 11 3.605551275463989\n",
      "0 12 2.8284271247461903\n",
      "0 13 3.1622776601683795\n",
      "0 14 3.605551275463989\n",
      "0 15 5.656854249492381\n",
      "0 16 5.0\n",
      "1 2 6.0\n",
      "1 3 2.23606797749979\n",
      "1 4 1.4142135623730951\n",
      "1 5 3.605551275463989\n",
      "1 6 5.385164807134504\n",
      "1 7 3.1622776601683795\n",
      "1 8 5.0\n",
      "1 9 5.830951894845301\n",
      "1 10 7.810249675906654\n",
      "1 11 6.082762530298219\n",
      "1 12 6.0\n",
      "1 13 7.0710678118654755\n",
      "1 14 8.06225774829855\n",
      "1 15 8.246211251235321\n",
      "1 16 9.433981132056603\n",
      "2 3 8.06225774829855\n",
      "2 4 7.0710678118654755\n",
      "2 5 3.605551275463989\n",
      "2 6 2.23606797749979\n",
      "2 7 5.830951894845301\n",
      "2 8 3.605551275463989\n",
      "2 9 5.830951894845301\n",
      "2 10 5.0\n",
      "2 11 9.219544457292887\n",
      "2 12 8.48528137423857\n",
      "2 13 8.602325267042627\n",
      "2 14 7.280109889280518\n",
      "2 15 11.313708498984761\n",
      "2 16 8.06225774829855\n",
      "3 4 1.0\n",
      "3 5 5.0990195135927845\n",
      "3 6 7.0710678118654755\n",
      "3 7 3.605551275463989\n",
      "3 8 6.324555320336759\n",
      "3 9 6.4031242374328485\n",
      "3 10 8.94427190999916\n",
      "3 11 5.0990195135927845\n",
      "3 12 5.385164807134504\n",
      "3 13 6.708203932499369\n",
      "3 14 8.48528137423857\n",
      "3 15 7.0\n",
      "3 16 9.899494936611665\n",
      "4 5 4.123105625617661\n",
      "4 6 6.082762530298219\n",
      "4 7 2.8284271247461903\n",
      "4 8 5.385164807134504\n",
      "4 9 5.656854249492381\n",
      "4 10 8.06225774829855\n",
      "4 11 5.0\n",
      "4 12 5.0990195135927845\n",
      "4 13 6.324555320336759\n",
      "4 14 7.810249675906654\n",
      "4 15 7.0710678118654755\n",
      "4 16 9.219544457292887\n",
      "5 6 2.0\n",
      "5 7 2.23606797749979\n",
      "5 8 1.4142135623730951\n",
      "5 9 3.0\n",
      "5 10 4.242640687119285\n",
      "5 11 5.656854249492381\n",
      "5 12 5.0\n",
      "5 13 5.385164807134504\n",
      "5 14 5.0990195135927845\n",
      "5 15 7.810249675906654\n",
      "5 16 6.324555320336759\n",
      "6 7 4.123105625617661\n",
      "6 8 1.4142135623730951\n",
      "6 9 3.605551275463989\n",
      "6 10 3.1622776601683795\n",
      "6 11 7.211102550927978\n",
      "6 12 6.4031242374328485\n",
      "6 13 6.4031242374328485\n",
      "6 14 5.0990195135927845\n",
      "6 15 9.219544457292887\n",
      "6 16 6.0\n",
      "7 8 3.0\n",
      "7 9 2.8284271247461903\n",
      "7 10 5.385164807134504\n",
      "7 11 3.605551275463989\n",
      "7 12 3.1622776601683795\n",
      "7 13 4.0\n",
      "7 14 5.0\n",
      "7 15 5.830951894845301\n",
      "7 16 6.4031242374328485\n",
      "8 9 2.23606797749979\n",
      "8 10 2.8284271247461903\n",
      "8 11 5.830951894845301\n",
      "8 12 5.0\n",
      "8 13 5.0\n",
      "8 14 4.0\n",
      "8 15 7.810249675906654\n",
      "8 16 5.0990195135927845\n",
      "9 10 3.0\n",
      "9 11 4.123105625617661\n",
      "9 12 3.1622776601683795\n",
      "9 13 2.8284271247461903\n",
      "9 14 2.23606797749979\n",
      "9 15 5.830951894845301\n",
      "9 16 3.605551275463989\n",
      "10 11 7.0710678118654755\n",
      "10 12 6.082762530298219\n",
      "10 13 5.385164807134504\n",
      "10 14 2.8284271247461903\n",
      "10 15 8.54400374531753\n",
      "10 16 3.1622776601683795\n",
      "11 12 1.0\n",
      "11 13 2.23606797749979\n",
      "11 14 5.0990195135927845\n",
      "11 15 2.23606797749979\n",
      "11 16 6.324555320336759\n",
      "12 13 1.4142135623730951\n",
      "12 14 4.123105625617661\n",
      "12 15 2.8284271247461903\n",
      "12 16 5.385164807134504\n",
      "13 14 3.0\n",
      "13 15 3.1622776601683795\n",
      "13 16 4.123105625617661\n",
      "14 15 6.082762530298219\n",
      "14 16 1.4142135623730951\n",
      "15 16 7.0\n"
     ]
    }
   ],
   "source": [
    "for i, j in G.edges:\n",
    "    print(i, j, G.get_edge_data(i, j)[\"weight\"])"
   ]
  }
 ],
 "metadata": {
  "kernelspec": {
   "display_name": "Python 3",
   "language": "python",
   "name": "python3"
  },
  "language_info": {
   "codemirror_mode": {
    "name": "ipython",
    "version": 3
   },
   "file_extension": ".py",
   "mimetype": "text/x-python",
   "name": "python",
   "nbconvert_exporter": "python",
   "pygments_lexer": "ipython3",
   "version": "3.6.6"
  }
 },
 "nbformat": 4,
 "nbformat_minor": 2
}
