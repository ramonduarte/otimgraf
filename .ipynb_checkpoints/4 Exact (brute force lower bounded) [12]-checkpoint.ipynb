{
 "cells": [
  {
   "cell_type": "code",
   "execution_count": 1,
   "metadata": {},
   "outputs": [],
   "source": [
    "import networkx as nx\n",
    "import matplotlib.pyplot as plt\n",
    "import math\n",
    "import itertools\n",
    "from tqdm import tqdm_notebook as tqdm\n",
    "\n",
    "# Locations in block units\n",
    "_locations = \\\n",
    "      [(4, 4), # depot\n",
    "       (2, 0), (8, 0), # locations to visit\n",
    "       (0, 1),\n",
    "       (5, 2),\n",
    "       (3, 3), (6, 3),\n",
    "       (5, 5), (8, 5),\n",
    "       (1, 6), (2, 6),\n",
    "       (0, 8), (7, 8)]\n",
    "\n",
    "demands = [0, # depot\n",
    "         1, 1, # row 0\n",
    "         2,\n",
    "         2,\n",
    "         8, 8,\n",
    "         1, 2,\n",
    "         1, 2,\n",
    "         8, 8]\n",
    "\n",
    "capacities = [15, 15, 15, 15]\n",
    "\n",
    "time_windows = \\\n",
    "        [(0, 0),\n",
    "         (75, 85), (75, 85), # 1, 2\n",
    "         (60, 70), # 3, 4\n",
    "         (0, 8), # 5, 6\n",
    "         (0, 10), (10, 20), # 7, 8\n",
    "         (0, 10), (75, 85), # 9, 10\n",
    "         (85, 95), (5, 15), # 11, 12\n",
    "         (45, 55), (30, 40)] # 15, 16"
   ]
  },
  {
   "cell_type": "code",
   "execution_count": 2,
   "metadata": {},
   "outputs": [],
   "source": [
    "def weight(node1: [float,float], node2: [float,float]):\n",
    "    return math.sqrt((node1[0]-node2[0])**2\n",
    "              + (node1[1]-node2[1])**2)\n",
    "\n",
    "def powerset(iterable, lb=1):\n",
    "    \"powerset([1,2,3]) --> () (1,) (2,) (3,) (1,2) (1,3) (2,3) (1,2,3)\"\n",
    "    s = list(iterable)\n",
    "    return itertools.chain.from_iterable(itertools.combinations(s, r) for r in range(lb, len(s)+1))"
   ]
  },
  {
   "cell_type": "code",
   "execution_count": 3,
   "metadata": {},
   "outputs": [],
   "source": [
    "G = nx.Graph(instance=\"Google OR example\")\n",
    "\n",
    "for i in range(len(_locations)):\n",
    "    G.add_node(i, location=_locations[i], demand=demands[i], time_window=time_windows[i], status=0)\n",
    "\n",
    "for i in range(len(_locations)):\n",
    "    for j in range(len(_locations)):\n",
    "        if i >= j:\n",
    "            continue\n",
    "        G.add_edge(i, j,\n",
    "                   weight=math.sqrt(\n",
    "                       (_locations[i][0]-_locations[j][0])**2\n",
    "                       + (_locations[i][1]-_locations[j][1])**2))"
   ]
  },
  {
   "cell_type": "code",
   "execution_count": 4,
   "metadata": {},
   "outputs": [],
   "source": [
    "viable_routes = []\n",
    "total_capacity = sum(capacities)\n",
    "total_demand = sum(demands)\n",
    "lower_bound = total_demand % max(capacities) or max(capacities)\n",
    "upper_bound = max(capacities)\n",
    "\n",
    "for route in powerset(range(1, len(G.nodes))):\n",
    "    demand = 0\n",
    "    route_weight = 0\n",
    "    viable = True\n",
    "    for i in route:\n",
    "        if not viable:\n",
    "            continue\n",
    "        demand += demands[i]\n",
    "        if demand > upper_bound:\n",
    "            viable = False\n",
    "            break\n",
    "    else:\n",
    "        if demand >= lower_bound:\n",
    "            viable_routes += [[route, demand]]\n",
    "    "
   ]
  },
  {
   "cell_type": "code",
   "execution_count": 7,
   "metadata": {
    "collapsed": true
   },
   "outputs": [
    {
     "data": {
      "application/vnd.jupyter.widget-view+json": {
       "model_id": "1179d70a8d2943b0bb0c629ff25ecfdb",
       "version_major": 2,
       "version_minor": 0
      },
      "text/plain": [
       "HBox(children=(IntProgress(value=1, bar_style='info', max=1), HTML(value='')))"
      ]
     },
     "metadata": {},
     "output_type": "display_data"
    },
    {
     "ename": "KeyboardInterrupt",
     "evalue": "",
     "output_type": "error",
     "traceback": [
      "\u001b[0;31m---------------------------------------------------------------------------\u001b[0m",
      "\u001b[0;31mKeyboardInterrupt\u001b[0m                         Traceback (most recent call last)",
      "\u001b[0;32m<ipython-input-7-9060a14514b8>\u001b[0m in \u001b[0;36m<module>\u001b[0;34m\u001b[0m\n\u001b[1;32m      3\u001b[0m \u001b[0;31m# for solution in powerset(viable_routes):\u001b[0m\u001b[0;34m\u001b[0m\u001b[0;34m\u001b[0m\u001b[0m\n\u001b[1;32m      4\u001b[0m     \u001b[0mattended_demand\u001b[0m \u001b[0;34m=\u001b[0m \u001b[0msum\u001b[0m\u001b[0;34m(\u001b[0m\u001b[0;34m[\u001b[0m\u001b[0mx\u001b[0m\u001b[0;34m[\u001b[0m\u001b[0;36m1\u001b[0m\u001b[0;34m]\u001b[0m \u001b[0;32mfor\u001b[0m \u001b[0mx\u001b[0m \u001b[0;32min\u001b[0m \u001b[0msolution\u001b[0m\u001b[0;34m]\u001b[0m\u001b[0;34m)\u001b[0m\u001b[0;34m\u001b[0m\u001b[0m\n\u001b[0;32m----> 5\u001b[0;31m     \u001b[0mcoverage\u001b[0m \u001b[0;34m=\u001b[0m \u001b[0mset\u001b[0m\u001b[0;34m(\u001b[0m\u001b[0mi\u001b[0m \u001b[0;32mfor\u001b[0m \u001b[0mx\u001b[0m \u001b[0;32min\u001b[0m \u001b[0msolution\u001b[0m \u001b[0;32mfor\u001b[0m \u001b[0mi\u001b[0m \u001b[0;32min\u001b[0m \u001b[0mx\u001b[0m\u001b[0;34m[\u001b[0m\u001b[0;36m0\u001b[0m\u001b[0;34m]\u001b[0m\u001b[0;34m)\u001b[0m\u001b[0;34m\u001b[0m\u001b[0m\n\u001b[0m\u001b[1;32m      6\u001b[0m     \u001b[0;32mif\u001b[0m \u001b[0mattended_demand\u001b[0m \u001b[0;34m==\u001b[0m \u001b[0mtotal_demand\u001b[0m \u001b[0;34m<=\u001b[0m \u001b[0mtotal_capacity\u001b[0m \u001b[0;32mand\u001b[0m \u001b[0mlen\u001b[0m\u001b[0;34m(\u001b[0m\u001b[0mcoverage\u001b[0m\u001b[0;34m)\u001b[0m \u001b[0;34m==\u001b[0m \u001b[0mlen\u001b[0m\u001b[0;34m(\u001b[0m\u001b[0mG\u001b[0m\u001b[0;34m.\u001b[0m\u001b[0mnodes\u001b[0m\u001b[0;34m)\u001b[0m \u001b[0;34m-\u001b[0m \u001b[0;36m1\u001b[0m\u001b[0;34m:\u001b[0m\u001b[0;34m\u001b[0m\u001b[0m\n\u001b[1;32m      7\u001b[0m         \u001b[0mtotal_weight\u001b[0m \u001b[0;34m=\u001b[0m \u001b[0msum\u001b[0m\u001b[0;34m(\u001b[0m\u001b[0;34m[\u001b[0m\u001b[0mG\u001b[0m\u001b[0;34m.\u001b[0m\u001b[0mget_edge_data\u001b[0m\u001b[0;34m(\u001b[0m\u001b[0mx\u001b[0m\u001b[0;34m[\u001b[0m\u001b[0;36m0\u001b[0m\u001b[0;34m]\u001b[0m\u001b[0;34m[\u001b[0m\u001b[0mi\u001b[0m\u001b[0;34m]\u001b[0m\u001b[0;34m,\u001b[0m \u001b[0mx\u001b[0m\u001b[0;34m[\u001b[0m\u001b[0;36m0\u001b[0m\u001b[0;34m]\u001b[0m\u001b[0;34m[\u001b[0m\u001b[0mi\u001b[0m\u001b[0;34m+\u001b[0m\u001b[0;36m1\u001b[0m\u001b[0;34m]\u001b[0m\u001b[0;34m)\u001b[0m\u001b[0;34m[\u001b[0m\u001b[0;34m\"weight\"\u001b[0m\u001b[0;34m]\u001b[0m \u001b[0;32mfor\u001b[0m \u001b[0mx\u001b[0m \u001b[0;32min\u001b[0m \u001b[0msolution\u001b[0m \u001b[0;32mfor\u001b[0m \u001b[0mi\u001b[0m \u001b[0;32min\u001b[0m \u001b[0mrange\u001b[0m\u001b[0;34m(\u001b[0m\u001b[0mlen\u001b[0m\u001b[0;34m(\u001b[0m\u001b[0mx\u001b[0m\u001b[0;34m[\u001b[0m\u001b[0;36m0\u001b[0m\u001b[0;34m]\u001b[0m\u001b[0;34m)\u001b[0m\u001b[0;34m-\u001b[0m\u001b[0;36m1\u001b[0m\u001b[0;34m)\u001b[0m\u001b[0;34m]\u001b[0m\u001b[0;34m)\u001b[0m\u001b[0;34m\u001b[0m\u001b[0m\n",
      "\u001b[0;32m<ipython-input-7-9060a14514b8>\u001b[0m in \u001b[0;36m<genexpr>\u001b[0;34m(.0)\u001b[0m\n\u001b[1;32m      3\u001b[0m \u001b[0;31m# for solution in powerset(viable_routes):\u001b[0m\u001b[0;34m\u001b[0m\u001b[0;34m\u001b[0m\u001b[0m\n\u001b[1;32m      4\u001b[0m     \u001b[0mattended_demand\u001b[0m \u001b[0;34m=\u001b[0m \u001b[0msum\u001b[0m\u001b[0;34m(\u001b[0m\u001b[0;34m[\u001b[0m\u001b[0mx\u001b[0m\u001b[0;34m[\u001b[0m\u001b[0;36m1\u001b[0m\u001b[0;34m]\u001b[0m \u001b[0;32mfor\u001b[0m \u001b[0mx\u001b[0m \u001b[0;32min\u001b[0m \u001b[0msolution\u001b[0m\u001b[0;34m]\u001b[0m\u001b[0;34m)\u001b[0m\u001b[0;34m\u001b[0m\u001b[0m\n\u001b[0;32m----> 5\u001b[0;31m     \u001b[0mcoverage\u001b[0m \u001b[0;34m=\u001b[0m \u001b[0mset\u001b[0m\u001b[0;34m(\u001b[0m\u001b[0mi\u001b[0m \u001b[0;32mfor\u001b[0m \u001b[0mx\u001b[0m \u001b[0;32min\u001b[0m \u001b[0msolution\u001b[0m \u001b[0;32mfor\u001b[0m \u001b[0mi\u001b[0m \u001b[0;32min\u001b[0m \u001b[0mx\u001b[0m\u001b[0;34m[\u001b[0m\u001b[0;36m0\u001b[0m\u001b[0;34m]\u001b[0m\u001b[0;34m)\u001b[0m\u001b[0;34m\u001b[0m\u001b[0m\n\u001b[0m\u001b[1;32m      6\u001b[0m     \u001b[0;32mif\u001b[0m \u001b[0mattended_demand\u001b[0m \u001b[0;34m==\u001b[0m \u001b[0mtotal_demand\u001b[0m \u001b[0;34m<=\u001b[0m \u001b[0mtotal_capacity\u001b[0m \u001b[0;32mand\u001b[0m \u001b[0mlen\u001b[0m\u001b[0;34m(\u001b[0m\u001b[0mcoverage\u001b[0m\u001b[0;34m)\u001b[0m \u001b[0;34m==\u001b[0m \u001b[0mlen\u001b[0m\u001b[0;34m(\u001b[0m\u001b[0mG\u001b[0m\u001b[0;34m.\u001b[0m\u001b[0mnodes\u001b[0m\u001b[0;34m)\u001b[0m \u001b[0;34m-\u001b[0m \u001b[0;36m1\u001b[0m\u001b[0;34m:\u001b[0m\u001b[0;34m\u001b[0m\u001b[0m\n\u001b[1;32m      7\u001b[0m         \u001b[0mtotal_weight\u001b[0m \u001b[0;34m=\u001b[0m \u001b[0msum\u001b[0m\u001b[0;34m(\u001b[0m\u001b[0;34m[\u001b[0m\u001b[0mG\u001b[0m\u001b[0;34m.\u001b[0m\u001b[0mget_edge_data\u001b[0m\u001b[0;34m(\u001b[0m\u001b[0mx\u001b[0m\u001b[0;34m[\u001b[0m\u001b[0;36m0\u001b[0m\u001b[0;34m]\u001b[0m\u001b[0;34m[\u001b[0m\u001b[0mi\u001b[0m\u001b[0;34m]\u001b[0m\u001b[0;34m,\u001b[0m \u001b[0mx\u001b[0m\u001b[0;34m[\u001b[0m\u001b[0;36m0\u001b[0m\u001b[0;34m]\u001b[0m\u001b[0;34m[\u001b[0m\u001b[0mi\u001b[0m\u001b[0;34m+\u001b[0m\u001b[0;36m1\u001b[0m\u001b[0;34m]\u001b[0m\u001b[0;34m)\u001b[0m\u001b[0;34m[\u001b[0m\u001b[0;34m\"weight\"\u001b[0m\u001b[0;34m]\u001b[0m \u001b[0;32mfor\u001b[0m \u001b[0mx\u001b[0m \u001b[0;32min\u001b[0m \u001b[0msolution\u001b[0m \u001b[0;32mfor\u001b[0m \u001b[0mi\u001b[0m \u001b[0;32min\u001b[0m \u001b[0mrange\u001b[0m\u001b[0;34m(\u001b[0m\u001b[0mlen\u001b[0m\u001b[0;34m(\u001b[0m\u001b[0mx\u001b[0m\u001b[0;34m[\u001b[0m\u001b[0;36m0\u001b[0m\u001b[0;34m]\u001b[0m\u001b[0;34m)\u001b[0m\u001b[0;34m-\u001b[0m\u001b[0;36m1\u001b[0m\u001b[0;34m)\u001b[0m\u001b[0;34m]\u001b[0m\u001b[0;34m)\u001b[0m\u001b[0;34m\u001b[0m\u001b[0m\n",
      "\u001b[0;31mKeyboardInterrupt\u001b[0m: "
     ]
    }
   ],
   "source": [
    "best_route = [[], 99999999999]\n",
    "for solution in tqdm(powerset(viable_routes)):\n",
    "# for solution in powerset(viable_routes):\n",
    "    attended_demand = sum([x[1] for x in solution])\n",
    "    coverage = set(i for x in solution for i in x[0])\n",
    "    if attended_demand == total_demand <= total_capacity and len(coverage) == len(G.nodes) - 1:\n",
    "        total_weight = sum([G.get_edge_data(x[0][i], x[0][i+1])[\"weight\"] for x in solution for i in range(len(x[0])-1)])\n",
    "        if total_weight < best_route[1]:\n",
    "            best_route = [solution, total_weight]\n",
    "            print(best_route)\n",
    "best_route"
   ]
  },
  {
   "cell_type": "code",
   "execution_count": 14,
   "metadata": {},
   "outputs": [
    {
     "data": {
      "text/plain": [
       "[[(3, 4, 5, 8), 14],\n",
       " [(3, 4, 5, 10), 14],\n",
       " [(3, 4, 6, 8), 14],\n",
       " [(3, 4, 6, 10), 14],\n",
       " [(3, 4, 8, 11), 14],\n",
       " [(3, 4, 8, 12), 14],\n",
       " [(3, 4, 10, 11), 14],\n",
       " [(3, 4, 10, 12), 14],\n",
       " [(3, 5, 8, 10), 14],\n",
       " [(3, 6, 8, 10), 14],\n",
       " [(3, 8, 10, 11), 14],\n",
       " [(3, 8, 10, 12), 14],\n",
       " [(4, 5, 8, 10), 14],\n",
       " [(4, 6, 8, 10), 14],\n",
       " [(4, 8, 10, 11), 14],\n",
       " [(4, 8, 10, 12), 14],\n",
       " [(1, 2, 3, 4, 5), 14],\n",
       " [(1, 2, 3, 4, 6), 14],\n",
       " [(1, 2, 3, 4, 11), 14],\n",
       " [(1, 2, 3, 4, 12), 14],\n",
       " [(1, 2, 3, 5, 8), 14],\n",
       " [(1, 2, 3, 5, 10), 14],\n",
       " [(1, 2, 3, 6, 8), 14],\n",
       " [(1, 2, 3, 6, 10), 14],\n",
       " [(1, 2, 3, 8, 11), 14],\n",
       " [(1, 2, 3, 8, 12), 14],\n",
       " [(1, 2, 3, 10, 11), 14],\n",
       " [(1, 2, 3, 10, 12), 14],\n",
       " [(1, 2, 4, 5, 8), 14],\n",
       " [(1, 2, 4, 5, 10), 14],\n",
       " [(1, 2, 4, 6, 8), 14],\n",
       " [(1, 2, 4, 6, 10), 14],\n",
       " [(1, 2, 4, 8, 11), 14],\n",
       " [(1, 2, 4, 8, 12), 14],\n",
       " [(1, 2, 4, 10, 11), 14],\n",
       " [(1, 2, 4, 10, 12), 14],\n",
       " [(1, 2, 5, 8, 10), 14],\n",
       " [(1, 2, 6, 8, 10), 14],\n",
       " [(1, 2, 8, 10, 11), 14],\n",
       " [(1, 2, 8, 10, 12), 14],\n",
       " [(1, 3, 4, 5, 7), 14],\n",
       " [(1, 3, 4, 5, 8), 15],\n",
       " [(1, 3, 4, 5, 9), 14],\n",
       " [(1, 3, 4, 5, 10), 15],\n",
       " [(1, 3, 4, 6, 7), 14],\n",
       " [(1, 3, 4, 6, 8), 15],\n",
       " [(1, 3, 4, 6, 9), 14],\n",
       " [(1, 3, 4, 6, 10), 15],\n",
       " [(1, 3, 4, 7, 11), 14],\n",
       " [(1, 3, 4, 7, 12), 14],\n",
       " [(1, 3, 4, 8, 11), 15],\n",
       " [(1, 3, 4, 8, 12), 15],\n",
       " [(1, 3, 4, 9, 11), 14],\n",
       " [(1, 3, 4, 9, 12), 14],\n",
       " [(1, 3, 4, 10, 11), 15],\n",
       " [(1, 3, 4, 10, 12), 15],\n",
       " [(1, 3, 5, 7, 8), 14],\n",
       " [(1, 3, 5, 7, 10), 14],\n",
       " [(1, 3, 5, 8, 9), 14],\n",
       " [(1, 3, 5, 8, 10), 15],\n",
       " [(1, 3, 5, 9, 10), 14],\n",
       " [(1, 3, 6, 7, 8), 14],\n",
       " [(1, 3, 6, 7, 10), 14],\n",
       " [(1, 3, 6, 8, 9), 14],\n",
       " [(1, 3, 6, 8, 10), 15],\n",
       " [(1, 3, 6, 9, 10), 14],\n",
       " [(1, 3, 7, 8, 11), 14],\n",
       " [(1, 3, 7, 8, 12), 14],\n",
       " [(1, 3, 7, 10, 11), 14],\n",
       " [(1, 3, 7, 10, 12), 14],\n",
       " [(1, 3, 8, 9, 11), 14],\n",
       " [(1, 3, 8, 9, 12), 14],\n",
       " [(1, 3, 8, 10, 11), 15],\n",
       " [(1, 3, 8, 10, 12), 15],\n",
       " [(1, 3, 9, 10, 11), 14],\n",
       " [(1, 3, 9, 10, 12), 14],\n",
       " [(1, 4, 5, 7, 8), 14],\n",
       " [(1, 4, 5, 7, 10), 14],\n",
       " [(1, 4, 5, 8, 9), 14],\n",
       " [(1, 4, 5, 8, 10), 15],\n",
       " [(1, 4, 5, 9, 10), 14],\n",
       " [(1, 4, 6, 7, 8), 14],\n",
       " [(1, 4, 6, 7, 10), 14],\n",
       " [(1, 4, 6, 8, 9), 14],\n",
       " [(1, 4, 6, 8, 10), 15],\n",
       " [(1, 4, 6, 9, 10), 14],\n",
       " [(1, 4, 7, 8, 11), 14],\n",
       " [(1, 4, 7, 8, 12), 14],\n",
       " [(1, 4, 7, 10, 11), 14],\n",
       " [(1, 4, 7, 10, 12), 14],\n",
       " [(1, 4, 8, 9, 11), 14],\n",
       " [(1, 4, 8, 9, 12), 14],\n",
       " [(1, 4, 8, 10, 11), 15],\n",
       " [(1, 4, 8, 10, 12), 15],\n",
       " [(1, 4, 9, 10, 11), 14],\n",
       " [(1, 4, 9, 10, 12), 14],\n",
       " [(1, 5, 7, 8, 10), 14],\n",
       " [(1, 5, 8, 9, 10), 14],\n",
       " [(1, 6, 7, 8, 10), 14],\n",
       " [(1, 6, 8, 9, 10), 14],\n",
       " [(1, 7, 8, 10, 11), 14],\n",
       " [(1, 7, 8, 10, 12), 14],\n",
       " [(1, 8, 9, 10, 11), 14],\n",
       " [(1, 8, 9, 10, 12), 14],\n",
       " [(2, 3, 4, 5, 7), 14],\n",
       " [(2, 3, 4, 5, 8), 15],\n",
       " [(2, 3, 4, 5, 9), 14],\n",
       " [(2, 3, 4, 5, 10), 15],\n",
       " [(2, 3, 4, 6, 7), 14],\n",
       " [(2, 3, 4, 6, 8), 15],\n",
       " [(2, 3, 4, 6, 9), 14],\n",
       " [(2, 3, 4, 6, 10), 15],\n",
       " [(2, 3, 4, 7, 11), 14],\n",
       " [(2, 3, 4, 7, 12), 14],\n",
       " [(2, 3, 4, 8, 11), 15],\n",
       " [(2, 3, 4, 8, 12), 15],\n",
       " [(2, 3, 4, 9, 11), 14],\n",
       " [(2, 3, 4, 9, 12), 14],\n",
       " [(2, 3, 4, 10, 11), 15],\n",
       " [(2, 3, 4, 10, 12), 15],\n",
       " [(2, 3, 5, 7, 8), 14],\n",
       " [(2, 3, 5, 7, 10), 14],\n",
       " [(2, 3, 5, 8, 9), 14],\n",
       " [(2, 3, 5, 8, 10), 15],\n",
       " [(2, 3, 5, 9, 10), 14],\n",
       " [(2, 3, 6, 7, 8), 14],\n",
       " [(2, 3, 6, 7, 10), 14],\n",
       " [(2, 3, 6, 8, 9), 14],\n",
       " [(2, 3, 6, 8, 10), 15],\n",
       " [(2, 3, 6, 9, 10), 14],\n",
       " [(2, 3, 7, 8, 11), 14],\n",
       " [(2, 3, 7, 8, 12), 14],\n",
       " [(2, 3, 7, 10, 11), 14],\n",
       " [(2, 3, 7, 10, 12), 14],\n",
       " [(2, 3, 8, 9, 11), 14],\n",
       " [(2, 3, 8, 9, 12), 14],\n",
       " [(2, 3, 8, 10, 11), 15],\n",
       " [(2, 3, 8, 10, 12), 15],\n",
       " [(2, 3, 9, 10, 11), 14],\n",
       " [(2, 3, 9, 10, 12), 14],\n",
       " [(2, 4, 5, 7, 8), 14],\n",
       " [(2, 4, 5, 7, 10), 14],\n",
       " [(2, 4, 5, 8, 9), 14],\n",
       " [(2, 4, 5, 8, 10), 15],\n",
       " [(2, 4, 5, 9, 10), 14],\n",
       " [(2, 4, 6, 7, 8), 14],\n",
       " [(2, 4, 6, 7, 10), 14],\n",
       " [(2, 4, 6, 8, 9), 14],\n",
       " [(2, 4, 6, 8, 10), 15],\n",
       " [(2, 4, 6, 9, 10), 14],\n",
       " [(2, 4, 7, 8, 11), 14],\n",
       " [(2, 4, 7, 8, 12), 14],\n",
       " [(2, 4, 7, 10, 11), 14],\n",
       " [(2, 4, 7, 10, 12), 14],\n",
       " [(2, 4, 8, 9, 11), 14],\n",
       " [(2, 4, 8, 9, 12), 14],\n",
       " [(2, 4, 8, 10, 11), 15],\n",
       " [(2, 4, 8, 10, 12), 15],\n",
       " [(2, 4, 9, 10, 11), 14],\n",
       " [(2, 4, 9, 10, 12), 14],\n",
       " [(2, 5, 7, 8, 10), 14],\n",
       " [(2, 5, 8, 9, 10), 14],\n",
       " [(2, 6, 7, 8, 10), 14],\n",
       " [(2, 6, 8, 9, 10), 14],\n",
       " [(2, 7, 8, 10, 11), 14],\n",
       " [(2, 7, 8, 10, 12), 14],\n",
       " [(2, 8, 9, 10, 11), 14],\n",
       " [(2, 8, 9, 10, 12), 14],\n",
       " [(3, 4, 5, 7, 8), 15],\n",
       " [(3, 4, 5, 7, 9), 14],\n",
       " [(3, 4, 5, 7, 10), 15],\n",
       " [(3, 4, 5, 8, 9), 15],\n",
       " [(3, 4, 5, 9, 10), 15],\n",
       " [(3, 4, 6, 7, 8), 15],\n",
       " [(3, 4, 6, 7, 9), 14],\n",
       " [(3, 4, 6, 7, 10), 15],\n",
       " [(3, 4, 6, 8, 9), 15],\n",
       " [(3, 4, 6, 9, 10), 15],\n",
       " [(3, 4, 7, 8, 11), 15],\n",
       " [(3, 4, 7, 8, 12), 15],\n",
       " [(3, 4, 7, 9, 11), 14],\n",
       " [(3, 4, 7, 9, 12), 14],\n",
       " [(3, 4, 7, 10, 11), 15],\n",
       " [(3, 4, 7, 10, 12), 15],\n",
       " [(3, 4, 8, 9, 11), 15],\n",
       " [(3, 4, 8, 9, 12), 15],\n",
       " [(3, 4, 9, 10, 11), 15],\n",
       " [(3, 4, 9, 10, 12), 15],\n",
       " [(3, 5, 7, 8, 9), 14],\n",
       " [(3, 5, 7, 8, 10), 15],\n",
       " [(3, 5, 7, 9, 10), 14],\n",
       " [(3, 5, 8, 9, 10), 15],\n",
       " [(3, 6, 7, 8, 9), 14],\n",
       " [(3, 6, 7, 8, 10), 15],\n",
       " [(3, 6, 7, 9, 10), 14],\n",
       " [(3, 6, 8, 9, 10), 15],\n",
       " [(3, 7, 8, 9, 11), 14],\n",
       " [(3, 7, 8, 9, 12), 14],\n",
       " [(3, 7, 8, 10, 11), 15],\n",
       " [(3, 7, 8, 10, 12), 15],\n",
       " [(3, 7, 9, 10, 11), 14],\n",
       " [(3, 7, 9, 10, 12), 14],\n",
       " [(3, 8, 9, 10, 11), 15],\n",
       " [(3, 8, 9, 10, 12), 15],\n",
       " [(4, 5, 7, 8, 9), 14],\n",
       " [(4, 5, 7, 8, 10), 15],\n",
       " [(4, 5, 7, 9, 10), 14],\n",
       " [(4, 5, 8, 9, 10), 15],\n",
       " [(4, 6, 7, 8, 9), 14],\n",
       " [(4, 6, 7, 8, 10), 15],\n",
       " [(4, 6, 7, 9, 10), 14],\n",
       " [(4, 6, 8, 9, 10), 15],\n",
       " [(4, 7, 8, 9, 11), 14],\n",
       " [(4, 7, 8, 9, 12), 14],\n",
       " [(4, 7, 8, 10, 11), 15],\n",
       " [(4, 7, 8, 10, 12), 15],\n",
       " [(4, 7, 9, 10, 11), 14],\n",
       " [(4, 7, 9, 10, 12), 14],\n",
       " [(4, 8, 9, 10, 11), 15],\n",
       " [(4, 8, 9, 10, 12), 15],\n",
       " [(5, 7, 8, 9, 10), 14],\n",
       " [(6, 7, 8, 9, 10), 14],\n",
       " [(7, 8, 9, 10, 11), 14],\n",
       " [(7, 8, 9, 10, 12), 14],\n",
       " [(1, 2, 3, 4, 5, 7), 15],\n",
       " [(1, 2, 3, 4, 5, 9), 15],\n",
       " [(1, 2, 3, 4, 6, 7), 15],\n",
       " [(1, 2, 3, 4, 6, 9), 15],\n",
       " [(1, 2, 3, 4, 7, 11), 15],\n",
       " [(1, 2, 3, 4, 7, 12), 15],\n",
       " [(1, 2, 3, 4, 9, 11), 15],\n",
       " [(1, 2, 3, 4, 9, 12), 15],\n",
       " [(1, 2, 3, 5, 7, 8), 15],\n",
       " [(1, 2, 3, 5, 7, 9), 14],\n",
       " [(1, 2, 3, 5, 7, 10), 15],\n",
       " [(1, 2, 3, 5, 8, 9), 15],\n",
       " [(1, 2, 3, 5, 9, 10), 15],\n",
       " [(1, 2, 3, 6, 7, 8), 15],\n",
       " [(1, 2, 3, 6, 7, 9), 14],\n",
       " [(1, 2, 3, 6, 7, 10), 15],\n",
       " [(1, 2, 3, 6, 8, 9), 15],\n",
       " [(1, 2, 3, 6, 9, 10), 15],\n",
       " [(1, 2, 3, 7, 8, 11), 15],\n",
       " [(1, 2, 3, 7, 8, 12), 15],\n",
       " [(1, 2, 3, 7, 9, 11), 14],\n",
       " [(1, 2, 3, 7, 9, 12), 14],\n",
       " [(1, 2, 3, 7, 10, 11), 15],\n",
       " [(1, 2, 3, 7, 10, 12), 15],\n",
       " [(1, 2, 3, 8, 9, 11), 15],\n",
       " [(1, 2, 3, 8, 9, 12), 15],\n",
       " [(1, 2, 3, 9, 10, 11), 15],\n",
       " [(1, 2, 3, 9, 10, 12), 15],\n",
       " [(1, 2, 4, 5, 7, 8), 15],\n",
       " [(1, 2, 4, 5, 7, 9), 14],\n",
       " [(1, 2, 4, 5, 7, 10), 15],\n",
       " [(1, 2, 4, 5, 8, 9), 15],\n",
       " [(1, 2, 4, 5, 9, 10), 15],\n",
       " [(1, 2, 4, 6, 7, 8), 15],\n",
       " [(1, 2, 4, 6, 7, 9), 14],\n",
       " [(1, 2, 4, 6, 7, 10), 15],\n",
       " [(1, 2, 4, 6, 8, 9), 15],\n",
       " [(1, 2, 4, 6, 9, 10), 15],\n",
       " [(1, 2, 4, 7, 8, 11), 15],\n",
       " [(1, 2, 4, 7, 8, 12), 15],\n",
       " [(1, 2, 4, 7, 9, 11), 14],\n",
       " [(1, 2, 4, 7, 9, 12), 14],\n",
       " [(1, 2, 4, 7, 10, 11), 15],\n",
       " [(1, 2, 4, 7, 10, 12), 15],\n",
       " [(1, 2, 4, 8, 9, 11), 15],\n",
       " [(1, 2, 4, 8, 9, 12), 15],\n",
       " [(1, 2, 4, 9, 10, 11), 15],\n",
       " [(1, 2, 4, 9, 10, 12), 15],\n",
       " [(1, 2, 5, 7, 8, 9), 14],\n",
       " [(1, 2, 5, 7, 8, 10), 15],\n",
       " [(1, 2, 5, 7, 9, 10), 14],\n",
       " [(1, 2, 5, 8, 9, 10), 15],\n",
       " [(1, 2, 6, 7, 8, 9), 14],\n",
       " [(1, 2, 6, 7, 8, 10), 15],\n",
       " [(1, 2, 6, 7, 9, 10), 14],\n",
       " [(1, 2, 6, 8, 9, 10), 15],\n",
       " [(1, 2, 7, 8, 9, 11), 14],\n",
       " [(1, 2, 7, 8, 9, 12), 14],\n",
       " [(1, 2, 7, 8, 10, 11), 15],\n",
       " [(1, 2, 7, 8, 10, 12), 15],\n",
       " [(1, 2, 7, 9, 10, 11), 14],\n",
       " [(1, 2, 7, 9, 10, 12), 14],\n",
       " [(1, 2, 8, 9, 10, 11), 15],\n",
       " [(1, 2, 8, 9, 10, 12), 15],\n",
       " [(1, 3, 4, 5, 7, 9), 15],\n",
       " [(1, 3, 4, 6, 7, 9), 15],\n",
       " [(1, 3, 4, 7, 9, 11), 15],\n",
       " [(1, 3, 4, 7, 9, 12), 15],\n",
       " [(1, 3, 5, 7, 8, 9), 15],\n",
       " [(1, 3, 5, 7, 9, 10), 15],\n",
       " [(1, 3, 6, 7, 8, 9), 15],\n",
       " [(1, 3, 6, 7, 9, 10), 15],\n",
       " [(1, 3, 7, 8, 9, 11), 15],\n",
       " [(1, 3, 7, 8, 9, 12), 15],\n",
       " [(1, 3, 7, 9, 10, 11), 15],\n",
       " [(1, 3, 7, 9, 10, 12), 15],\n",
       " [(1, 4, 5, 7, 8, 9), 15],\n",
       " [(1, 4, 5, 7, 9, 10), 15],\n",
       " [(1, 4, 6, 7, 8, 9), 15],\n",
       " [(1, 4, 6, 7, 9, 10), 15],\n",
       " [(1, 4, 7, 8, 9, 11), 15],\n",
       " [(1, 4, 7, 8, 9, 12), 15],\n",
       " [(1, 4, 7, 9, 10, 11), 15],\n",
       " [(1, 4, 7, 9, 10, 12), 15],\n",
       " [(1, 5, 7, 8, 9, 10), 15],\n",
       " [(1, 6, 7, 8, 9, 10), 15],\n",
       " [(1, 7, 8, 9, 10, 11), 15],\n",
       " [(1, 7, 8, 9, 10, 12), 15],\n",
       " [(2, 3, 4, 5, 7, 9), 15],\n",
       " [(2, 3, 4, 6, 7, 9), 15],\n",
       " [(2, 3, 4, 7, 9, 11), 15],\n",
       " [(2, 3, 4, 7, 9, 12), 15],\n",
       " [(2, 3, 5, 7, 8, 9), 15],\n",
       " [(2, 3, 5, 7, 9, 10), 15],\n",
       " [(2, 3, 6, 7, 8, 9), 15],\n",
       " [(2, 3, 6, 7, 9, 10), 15],\n",
       " [(2, 3, 7, 8, 9, 11), 15],\n",
       " [(2, 3, 7, 8, 9, 12), 15],\n",
       " [(2, 3, 7, 9, 10, 11), 15],\n",
       " [(2, 3, 7, 9, 10, 12), 15],\n",
       " [(2, 4, 5, 7, 8, 9), 15],\n",
       " [(2, 4, 5, 7, 9, 10), 15],\n",
       " [(2, 4, 6, 7, 8, 9), 15],\n",
       " [(2, 4, 6, 7, 9, 10), 15],\n",
       " [(2, 4, 7, 8, 9, 11), 15],\n",
       " [(2, 4, 7, 8, 9, 12), 15],\n",
       " [(2, 4, 7, 9, 10, 11), 15],\n",
       " [(2, 4, 7, 9, 10, 12), 15],\n",
       " [(2, 5, 7, 8, 9, 10), 15],\n",
       " [(2, 6, 7, 8, 9, 10), 15],\n",
       " [(2, 7, 8, 9, 10, 11), 15],\n",
       " [(2, 7, 8, 9, 10, 12), 15]]"
      ]
     },
     "execution_count": 14,
     "metadata": {},
     "output_type": "execute_result"
    }
   ],
   "source": [
    "viable_routes"
   ]
  },
  {
   "cell_type": "code",
   "execution_count": 5,
   "metadata": {},
   "outputs": [
    {
     "data": {
      "text/plain": [
       "14"
      ]
     },
     "execution_count": 5,
     "metadata": {},
     "output_type": "execute_result"
    }
   ],
   "source": [
    "lower_bound"
   ]
  },
  {
   "cell_type": "code",
   "execution_count": 14,
   "metadata": {
    "collapsed": true
   },
   "outputs": [
    {
     "name": "stdout",
     "output_type": "stream",
     "text": [
      "457 µs ± 47.2 µs per loop (mean ± std. dev. of 7 runs, 1000 loops each)\n"
     ]
    }
   ],
   "source": [
    "%%timeit\n",
    "nx.algorithms.tree.minimum_spanning_tree(G, algorithm=\"kruskal\", weight=\"weight\").edges"
   ]
  },
  {
   "cell_type": "code",
   "execution_count": 15,
   "metadata": {
    "collapsed": true
   },
   "outputs": [
    {
     "name": "stdout",
     "output_type": "stream",
     "text": [
      "369 µs ± 36 µs per loop (mean ± std. dev. of 7 runs, 1000 loops each)\n"
     ]
    }
   ],
   "source": [
    "%%timeit\n",
    "nx.algorithms.tree.minimum_spanning_tree(G, algorithm=\"prim\", weight=\"weight\").edges"
   ]
  },
  {
   "cell_type": "code",
   "execution_count": 17,
   "metadata": {},
   "outputs": [
    {
     "name": "stdout",
     "output_type": "stream",
     "text": [
      "0 4\n",
      "1 2\n",
      "2 1\n",
      "3 1\n",
      "4 3\n",
      "5 2\n",
      "6 2\n",
      "7 1\n",
      "8 2\n",
      "9 2\n",
      "10 2\n",
      "11 1\n",
      "12 1\n"
     ]
    }
   ],
   "source": [
    "MST = nx.algorithms.tree.minimum_spanning_tree(G, algorithm=\"prim\", weight=\"weight\")\n",
    "for node in MST.nodes:\n",
    "    print(node, MST.degree[node])"
   ]
  },
  {
   "cell_type": "code",
   "execution_count": 9,
   "metadata": {
    "collapsed": true
   },
   "outputs": [
    {
     "name": "stderr",
     "output_type": "stream",
     "text": [
      "/home/ramon/.local/share/virtualenvs/otimgraf-s98R5NnN/lib/python3.6/site-packages/networkx/drawing/nx_pylab.py:611: MatplotlibDeprecationWarning: isinstance(..., numbers.Number)\n",
      "  if cb.is_numlike(alpha):\n"
     ]
    },
    {
     "data": {
      "image/png": "[encoded data removed]",
      "text/plain": [
       "<Figure size 432x288 with 1 Axes>"
      ]
     },
     "metadata": {},
     "output_type": "display_data"
    }
   ],
   "source": [
    "nx.draw(MST)"
   ]
  },
  {
   "cell_type": "code",
   "execution_count": 6,
   "metadata": {},
   "outputs": [],
   "source": [
    "def ktree(G: nx.Graph, k: int) -> nx.Graph:\n",
    "    mst = nx.algorithms.tree.minimum_spanning_tree(G, algorithm=\"prim\", weight=\"weight\")\n",
    "    edges = sorted(G.edges(data=True), key=lambda x: x[2]['weight'])\n",
    "    \n",
    "    while(len(mst.edges) < (len(mst.nodes) + k - 1)):\n",
    "        for edge in edges:\n",
    "            if not mst.get_edge_data(edge[0], edge[1]):\n",
    "                mst.add_edge(edge[0], edge[1], weight=edge[2][\"weight\"])\n",
    "            if len(mst.edges) == (len(mst.nodes) + k - 1):\n",
    "                break\n",
    "    \n",
    "    print (len(mst.edges), len(mst.nodes))\n",
    "    # assert(len(mst.edges) < (len(mst.nodes) + k - 1))\n",
    "    \n",
    "    # TODO: step 0: make a copy of mst called ktree\n",
    "    ktree = nx.Graph(mst)\n",
    "    \n",
    "    \n",
    "    while ktree.degree[0] > 2*k:\n",
    "        # TODO: step 1: store edges on node 0 (depot), ordered by highest weight\n",
    "        depot_edges = sorted(mst.edges(0, data=True), key=lambda x: -x[2]['weight'])\n",
    "        \n",
    "        # TODO: step 2: remove all edges on depot\n",
    "        ktree.remove_edges_from(depot_edges)\n",
    "        \n",
    "        # TODO: step 3: label nodes according to their connected components\n",
    "        connected_components = list(nx.connected_components(ktree))\n",
    "        \n",
    "        # TODO: step 4: add those depot_edges again\n",
    "        # ktree = nx.Graph(mst)\n",
    "        \n",
    "        # TODO: step 5: REMEMBER ONLY COMPONENTS WITH 2+ EDGES TO DEPOT CAN BE DISCONNECTED\n",
    "        # but they'll be changing during this execution\n",
    "        # this is going to be a difficult but crucial step\n",
    "        \n",
    "        # TODO: step 6: for every edge between customers, compute a cost function w(c1, c2):\n",
    "        # w(c1,c2) = G.get_edge_data(c1, c2)[\"weight\"] - depot_edges[0][2][\"weight\"] if label(c1) == label(c2)\n",
    "        # else G.get_edge_data(c1, c2)[\"weight\"] - max(depot_edges[0][2][\"weight\"], depot_edge to label(c1)[\"weight\"], depot_edge to label(c2)[\"weight\"])\n",
    "        # REMEMBER TO STORE THE COMBINATION PICKED (c1, c2, which depot_edge)\n",
    "        \n",
    "        # TODO: step 7: if min(w(c1,c2)) from label(c1) == label(c2):\n",
    "        # remove depot_edges[0][2] from ktree\n",
    "        # delete depot_edges[0][2]\n",
    "        # ktree.add_edge(c1,c2,G.get_edge_data(c1, c2)[\"weight\"])\n",
    "        # ??? maybe ktree.add_edge(G.edges(c1,c2)) ???\n",
    "        # else:\n",
    "        # remove depot_edge from ktree\n",
    "        # delete depot_edge\n",
    "        # add best edge (according to min(w(c1,c2))) to ktree\n",
    "        # for all edges which label == label(c2): label = label(c1) since they're now connected\n",
    "        \n",
    "    while ktree.degree[0] < 2*k:\n",
    "        pass\n",
    "        # TODO: I have no idea \n",
    "        \n",
    "    assert ktree.degree[0] == 2*k\n",
    "    for i in len(ktree.nodes):\n",
    "        assert ktree.degree[i] == 2\n",
    "        \n",
    "    return ktree"
   ]
  },
  {
   "cell_type": "code",
   "execution_count": 27,
   "metadata": {},
   "outputs": [
    {
     "data": {
      "text/plain": [
       "[{1, 3, 5}, {2, 4, 6, 8, 12}, {7}, {9, 10, 11}]"
      ]
     },
     "execution_count": 27,
     "metadata": {},
     "output_type": "execute_result"
    }
   ],
   "source": [
    "m = nx.Graph(MST)\n",
    "m.remove_node(0)\n",
    "list(nx.connected_components(m))"
   ]
  },
  {
   "cell_type": "code",
   "execution_count": 7,
   "metadata": {},
   "outputs": [
    {
     "name": "stdout",
     "output_type": "stream",
     "text": [
      "14 13\n"
     ]
    },
    {
     "ename": "KeyboardInterrupt",
     "evalue": "",
     "output_type": "error",
     "traceback": [
      "\u001b[0;31m---------------------------------------------------------------------------\u001b[0m",
      "\u001b[0;31mKeyboardInterrupt\u001b[0m                         Traceback (most recent call last)",
      "\u001b[0;32m<ipython-input-7-f11082d3f9e2>\u001b[0m in \u001b[0;36m<module>\u001b[0;34m\u001b[0m\n\u001b[0;32m----> 1\u001b[0;31m \u001b[0mktree\u001b[0m\u001b[0;34m(\u001b[0m\u001b[0mG\u001b[0m\u001b[0;34m,\u001b[0m \u001b[0;36m2\u001b[0m\u001b[0;34m)\u001b[0m\u001b[0;34m\u001b[0m\u001b[0m\n\u001b[0m",
      "\u001b[0;32m<ipython-input-6-c176a084de2f>\u001b[0m in \u001b[0;36mktree\u001b[0;34m(G, k)\u001b[0m\n\u001b[1;32m     50\u001b[0m         \u001b[0;31m# for all edges which label == label(c2): label = label(c1) since they're now connected\u001b[0m\u001b[0;34m\u001b[0m\u001b[0;34m\u001b[0m\u001b[0m\n\u001b[1;32m     51\u001b[0m \u001b[0;34m\u001b[0m\u001b[0m\n\u001b[0;32m---> 52\u001b[0;31m     \u001b[0;32mwhile\u001b[0m \u001b[0mktree\u001b[0m\u001b[0;34m.\u001b[0m\u001b[0mdegree\u001b[0m\u001b[0;34m[\u001b[0m\u001b[0;36m0\u001b[0m\u001b[0;34m]\u001b[0m \u001b[0;34m<\u001b[0m \u001b[0;36m2\u001b[0m\u001b[0;34m*\u001b[0m\u001b[0mk\u001b[0m\u001b[0;34m:\u001b[0m\u001b[0;34m\u001b[0m\u001b[0m\n\u001b[0m\u001b[1;32m     53\u001b[0m         \u001b[0;32mpass\u001b[0m\u001b[0;34m\u001b[0m\u001b[0m\n\u001b[1;32m     54\u001b[0m         \u001b[0;31m# TODO: I have no idea\u001b[0m\u001b[0;34m\u001b[0m\u001b[0;34m\u001b[0m\u001b[0m\n",
      "\u001b[0;32m~/.local/share/virtualenvs/otimgraf-s98R5NnN/lib/python3.6/site-packages/networkx/classes/graph.py\u001b[0m in \u001b[0;36mdegree\u001b[0;34m(self)\u001b[0m\n\u001b[1;32m   1412\u001b[0m         \u001b[0;34m[\u001b[0m\u001b[0;34m(\u001b[0m\u001b[0;36m0\u001b[0m\u001b[0;34m,\u001b[0m \u001b[0;36m1\u001b[0m\u001b[0;34m)\u001b[0m\u001b[0;34m,\u001b[0m \u001b[0;34m(\u001b[0m\u001b[0;36m1\u001b[0m\u001b[0;34m,\u001b[0m \u001b[0;36m2\u001b[0m\u001b[0;34m)\u001b[0m\u001b[0;34m,\u001b[0m \u001b[0;34m(\u001b[0m\u001b[0;36m2\u001b[0m\u001b[0;34m,\u001b[0m \u001b[0;36m2\u001b[0m\u001b[0;34m)\u001b[0m\u001b[0;34m]\u001b[0m\u001b[0;34m\u001b[0m\u001b[0m\n\u001b[1;32m   1413\u001b[0m         \"\"\"\n\u001b[0;32m-> 1414\u001b[0;31m         \u001b[0;32mreturn\u001b[0m \u001b[0mDegreeView\u001b[0m\u001b[0;34m(\u001b[0m\u001b[0mself\u001b[0m\u001b[0;34m)\u001b[0m\u001b[0;34m\u001b[0m\u001b[0m\n\u001b[0m\u001b[1;32m   1415\u001b[0m \u001b[0;34m\u001b[0m\u001b[0m\n\u001b[1;32m   1416\u001b[0m     \u001b[0;32mdef\u001b[0m \u001b[0mclear\u001b[0m\u001b[0;34m(\u001b[0m\u001b[0mself\u001b[0m\u001b[0;34m)\u001b[0m\u001b[0;34m:\u001b[0m\u001b[0;34m\u001b[0m\u001b[0m\n",
      "\u001b[0;32m~/.local/share/virtualenvs/otimgraf-s98R5NnN/lib/python3.6/site-packages/networkx/classes/reportviews.py\u001b[0m in \u001b[0;36m__init__\u001b[0;34m(self, G, nbunch, weight)\u001b[0m\n\u001b[1;32m    335\u001b[0m         \u001b[0mself\u001b[0m\u001b[0;34m.\u001b[0m\u001b[0m_graph\u001b[0m \u001b[0;34m=\u001b[0m \u001b[0mG\u001b[0m\u001b[0;34m\u001b[0m\u001b[0m\n\u001b[1;32m    336\u001b[0m         \u001b[0mself\u001b[0m\u001b[0;34m.\u001b[0m\u001b[0m_succ\u001b[0m \u001b[0;34m=\u001b[0m \u001b[0mG\u001b[0m\u001b[0;34m.\u001b[0m\u001b[0m_succ\u001b[0m \u001b[0;32mif\u001b[0m \u001b[0mhasattr\u001b[0m\u001b[0;34m(\u001b[0m\u001b[0mG\u001b[0m\u001b[0;34m,\u001b[0m \u001b[0;34m\"_succ\"\u001b[0m\u001b[0;34m)\u001b[0m \u001b[0;32melse\u001b[0m \u001b[0mG\u001b[0m\u001b[0;34m.\u001b[0m\u001b[0m_adj\u001b[0m\u001b[0;34m\u001b[0m\u001b[0m\n\u001b[0;32m--> 337\u001b[0;31m         \u001b[0mself\u001b[0m\u001b[0;34m.\u001b[0m\u001b[0m_pred\u001b[0m \u001b[0;34m=\u001b[0m \u001b[0mG\u001b[0m\u001b[0;34m.\u001b[0m\u001b[0m_pred\u001b[0m \u001b[0;32mif\u001b[0m \u001b[0mhasattr\u001b[0m\u001b[0;34m(\u001b[0m\u001b[0mG\u001b[0m\u001b[0;34m,\u001b[0m \u001b[0;34m\"_pred\"\u001b[0m\u001b[0;34m)\u001b[0m \u001b[0;32melse\u001b[0m \u001b[0mG\u001b[0m\u001b[0;34m.\u001b[0m\u001b[0m_adj\u001b[0m\u001b[0;34m\u001b[0m\u001b[0m\n\u001b[0m\u001b[1;32m    338\u001b[0m         \u001b[0mself\u001b[0m\u001b[0;34m.\u001b[0m\u001b[0m_nodes\u001b[0m \u001b[0;34m=\u001b[0m \u001b[0mself\u001b[0m\u001b[0;34m.\u001b[0m\u001b[0m_succ\u001b[0m \u001b[0;32mif\u001b[0m \u001b[0mnbunch\u001b[0m \u001b[0;32mis\u001b[0m \u001b[0;32mNone\u001b[0m\u001b[0;31m \u001b[0m\u001b[0;31m\\\u001b[0m\u001b[0;34m\u001b[0m\u001b[0m\n\u001b[1;32m    339\u001b[0m             \u001b[0;32melse\u001b[0m \u001b[0mlist\u001b[0m\u001b[0;34m(\u001b[0m\u001b[0mG\u001b[0m\u001b[0;34m.\u001b[0m\u001b[0mnbunch_iter\u001b[0m\u001b[0;34m(\u001b[0m\u001b[0mnbunch\u001b[0m\u001b[0;34m)\u001b[0m\u001b[0;34m)\u001b[0m\u001b[0;34m\u001b[0m\u001b[0m\n",
      "\u001b[0;31mKeyboardInterrupt\u001b[0m: "
     ]
    }
   ],
   "source": [
    "ktree(G, 2)"
   ]
  },
  {
   "cell_type": "code",
   "execution_count": 18,
   "metadata": {},
   "outputs": [
    {
     "data": {
      "text/plain": [
       "[(9, 10, {'weight': 1.0}),\n",
       " (0, 5, {'weight': 1.4142135623730951}),\n",
       " (0, 7, {'weight': 1.4142135623730951}),\n",
       " (4, 6, {'weight': 1.4142135623730951}),\n",
       " (0, 4, {'weight': 2.23606797749979}),\n",
       " (0, 6, {'weight': 2.23606797749979}),\n",
       " (1, 3, {'weight': 2.23606797749979}),\n",
       " (4, 5, {'weight': 2.23606797749979}),\n",
       " (6, 7, {'weight': 2.23606797749979}),\n",
       " (9, 11, {'weight': 2.23606797749979}),\n",
       " (0, 10, {'weight': 2.8284271247461903}),\n",
       " (5, 7, {'weight': 2.8284271247461903}),\n",
       " (6, 8, {'weight': 2.8284271247461903}),\n",
       " (10, 11, {'weight': 2.8284271247461903}),\n",
       " (4, 7, {'weight': 3.0}),\n",
       " (5, 6, {'weight': 3.0}),\n",
       " (7, 8, {'weight': 3.0}),\n",
       " (1, 5, {'weight': 3.1622776601683795}),\n",
       " (5, 10, {'weight': 3.1622776601683795}),\n",
       " (7, 10, {'weight': 3.1622776601683795}),\n",
       " (8, 12, {'weight': 3.1622776601683795}),\n",
       " (0, 9, {'weight': 3.605551275463989}),\n",
       " (1, 4, {'weight': 3.605551275463989}),\n",
       " (2, 4, {'weight': 3.605551275463989}),\n",
       " (2, 6, {'weight': 3.605551275463989}),\n",
       " (3, 5, {'weight': 3.605551275463989}),\n",
       " (5, 9, {'weight': 3.605551275463989}),\n",
       " (7, 12, {'weight': 3.605551275463989}),\n",
       " (0, 8, {'weight': 4.123105625617661}),\n",
       " (7, 9, {'weight': 4.123105625617661}),\n",
       " (4, 8, {'weight': 4.242640687119285}),\n",
       " (0, 1, {'weight': 4.47213595499958}),\n",
       " (0, 3, {'weight': 5.0}),\n",
       " (0, 12, {'weight': 5.0}),\n",
       " (1, 6, {'weight': 5.0}),\n",
       " (2, 8, {'weight': 5.0}),\n",
       " (4, 10, {'weight': 5.0}),\n",
       " (6, 10, {'weight': 5.0}),\n",
       " (3, 4, {'weight': 5.0990195135927845}),\n",
       " (3, 9, {'weight': 5.0990195135927845}),\n",
       " (6, 12, {'weight': 5.0990195135927845}),\n",
       " (3, 10, {'weight': 5.385164807134504}),\n",
       " (5, 8, {'weight': 5.385164807134504}),\n",
       " (10, 12, {'weight': 5.385164807134504}),\n",
       " (0, 2, {'weight': 5.656854249492381}),\n",
       " (0, 11, {'weight': 5.656854249492381}),\n",
       " (4, 9, {'weight': 5.656854249492381}),\n",
       " (1, 7, {'weight': 5.830951894845301}),\n",
       " (2, 5, {'weight': 5.830951894845301}),\n",
       " (2, 7, {'weight': 5.830951894845301}),\n",
       " (5, 11, {'weight': 5.830951894845301}),\n",
       " (6, 9, {'weight': 5.830951894845301}),\n",
       " (7, 11, {'weight': 5.830951894845301}),\n",
       " (1, 2, {'weight': 6.0}),\n",
       " (1, 10, {'weight': 6.0}),\n",
       " (1, 9, {'weight': 6.082762530298219}),\n",
       " (8, 10, {'weight': 6.082762530298219}),\n",
       " (3, 6, {'weight': 6.324555320336759}),\n",
       " (4, 12, {'weight': 6.324555320336759}),\n",
       " (9, 12, {'weight': 6.324555320336759}),\n",
       " (3, 7, {'weight': 6.4031242374328485}),\n",
       " (5, 12, {'weight': 6.4031242374328485}),\n",
       " (3, 11, {'weight': 7.0}),\n",
       " (11, 12, {'weight': 7.0}),\n",
       " (8, 9, {'weight': 7.0710678118654755}),\n",
       " (1, 8, {'weight': 7.810249675906654}),\n",
       " (4, 11, {'weight': 7.810249675906654}),\n",
       " (6, 11, {'weight': 7.810249675906654}),\n",
       " (2, 3, {'weight': 8.06225774829855}),\n",
       " (2, 12, {'weight': 8.06225774829855}),\n",
       " (1, 11, {'weight': 8.246211251235321}),\n",
       " (2, 10, {'weight': 8.48528137423857}),\n",
       " (8, 11, {'weight': 8.54400374531753}),\n",
       " (3, 8, {'weight': 8.94427190999916}),\n",
       " (2, 9, {'weight': 9.219544457292887}),\n",
       " (1, 12, {'weight': 9.433981132056603}),\n",
       " (3, 12, {'weight': 9.899494936611665}),\n",
       " (2, 11, {'weight': 11.313708498984761})]"
      ]
     },
     "execution_count": 18,
     "metadata": {},
     "output_type": "execute_result"
    }
   ],
   "source": [
    "sorted(G.edges(data=True), key=lambda x: x[2]['weight'])"
   ]
  },
  {
   "cell_type": "code",
   "execution_count": 19,
   "metadata": {},
   "outputs": [
    {
     "data": {
      "text/plain": [
       "[(9, 10, {'weight': 1.0}),\n",
       " (0, 5, {'weight': 1.4142135623730951}),\n",
       " (0, 7, {'weight': 1.4142135623730951}),\n",
       " (4, 6, {'weight': 1.4142135623730951}),\n",
       " (0, 4, {'weight': 2.23606797749979}),\n",
       " (1, 3, {'weight': 2.23606797749979}),\n",
       " (9, 11, {'weight': 2.23606797749979}),\n",
       " (0, 10, {'weight': 2.8284271247461903}),\n",
       " (6, 8, {'weight': 2.8284271247461903}),\n",
       " (1, 5, {'weight': 3.1622776601683795}),\n",
       " (8, 12, {'weight': 3.1622776601683795}),\n",
       " (2, 4, {'weight': 3.605551275463989})]"
      ]
     },
     "execution_count": 19,
     "metadata": {},
     "output_type": "execute_result"
    }
   ],
   "source": [
    "mst = nx.algorithms.tree.minimum_spanning_tree(G, algorithm=\"prim\", weight=\"weight\")\n",
    "sorted(mst.edges(data=True), key=lambda x: x[2]['weight'])"
   ]
  },
  {
   "cell_type": "code",
   "execution_count": 24,
   "metadata": {},
   "outputs": [
    {
     "data": {
      "text/plain": [
       "True"
      ]
     },
     "execution_count": 24,
     "metadata": {},
     "output_type": "execute_result"
    }
   ],
   "source": [
    "mst.get_edge_data(8, 9) == None"
   ]
  },
  {
   "cell_type": "code",
   "execution_count": 1,
   "metadata": {},
   "outputs": [
    {
     "ename": "NameError",
     "evalue": "name 'mst' is not defined",
     "output_type": "error",
     "traceback": [
      "\u001b[0;31m---------------------------------------------------------------------------\u001b[0m",
      "\u001b[0;31mNameError\u001b[0m                                 Traceback (most recent call last)",
      "\u001b[0;32m<ipython-input-1-105f2119956b>\u001b[0m in \u001b[0;36m<module>\u001b[0;34m\u001b[0m\n\u001b[0;32m----> 1\u001b[0;31m \u001b[0mlen\u001b[0m\u001b[0;34m(\u001b[0m\u001b[0mmst\u001b[0m\u001b[0;34m.\u001b[0m\u001b[0mnodes\u001b[0m\u001b[0;34m)\u001b[0m\u001b[0;34m\u001b[0m\u001b[0m\n\u001b[0m",
      "\u001b[0;31mNameError\u001b[0m: name 'mst' is not defined"
     ]
    }
   ],
   "source": [
    "len(mst.nodes)"
   ]
  },
  {
   "cell_type": "code",
   "execution_count": 7,
   "metadata": {},
   "outputs": [],
   "source": [
    "def all_partitions(collection):\n",
    "    \"\"\"Returns the set of all partitions for a given set\n",
    "    e.g for [1,2], it returns [[1],[2]] and [[1,2]]\n",
    "    https://stackoverflow.com/questions/19368375/set-partitions-in-python\n",
    "    \"\"\"\n",
    "    if len(collection) == 1:\n",
    "        yield [collection]\n",
    "        return\n",
    "    first = collection[0]\n",
    "    for smaller in all_partitions(collection[1:]):\n",
    "        for n, subset in enumerate(smaller):\n",
    "            yield smaller[:n] + [[first] + subset] + smaller[n + 1:]\n",
    "        yield [[first]] + smaller\n",
    "\n",
    "def k_partitions_with_shortest_routes(ids, k=1):\n",
    "    \"\"\"Our partitions represent number of vehicles. This function yields\n",
    "     an optimal path for each vehicle given the destinations assigned to it\"\"\"\n",
    "    for p in filter(lambda x: len(x) == k, all_partitions(ids[1:])):\n",
    "        yield [min(all_routes([ids[0]] + q), key=route_length) for q in p]\n",
    "\n",
    "\n",
    "def shortest_partition(ids, k=3):\n",
    "    \"\"\"This function receives all k-subsets of a route and returns the subset\n",
    "    with minimum distance cost. Note the total time is always equal to\n",
    "    the max time taken by any single vehicle\"\"\"\n",
    "    return min(k_partitions_with_shortest_routes(ids, k),\n",
    "               key=lambda x: max(route_length(x[i]) for i in range(k)))\n"
   ]
  },
  {
   "cell_type": "code",
   "execution_count": null,
   "metadata": {},
   "outputs": [],
   "source": []
  },
  {
   "cell_type": "code",
   "execution_count": 8,
   "metadata": {},
   "outputs": [
    {
     "name": "stdout",
     "output_type": "stream",
     "text": [
      "14 13\n"
     ]
    }
   ],
   "source": [
    "k = 2  # trucks\n",
    "\n",
    "mst = nx.algorithms.tree.minimum_spanning_tree(G, algorithm=\"prim\", weight=\"weight\")\n",
    "edges = sorted(G.edges(data=True), key=lambda x: x[2]['weight'])\n",
    "\n",
    "while(len(mst.edges) < (len(mst.nodes) + k - 1)):\n",
    "    for edge in edges:\n",
    "        if not mst.get_edge_data(edge[0], edge[1]):\n",
    "            mst.add_edge(edge[0], edge[1], weight=edge[2][\"weight\"])\n",
    "        if len(mst.edges) == (len(mst.nodes) + k - 1):\n",
    "            break\n",
    "\n",
    "print (len(mst.edges), len(mst.nodes))\n",
    "# assert(len(mst.edges) < (len(mst.nodes) + k - 1))"
   ]
  },
  {
   "cell_type": "code",
   "execution_count": 33,
   "metadata": {},
   "outputs": [],
   "source": [
    "# TODO: step 0: make a copy of mst called ktree\n",
    "ktree = nx.Graph(mst)\n",
    "\n",
    "\n",
    "# while ktree.degree[0] > 2*k:\n",
    "\n",
    "\n",
    "# TODO: step 1: store edges on node 0 (depot), ordered by highest weight\n",
    "depot_edges = sorted(mst.edges(0, data=True), key=lambda x: -x[2]['weight'])\n",
    "\n",
    "# TODO: step 2: remove all edges on depot\n",
    "ktree.remove_edges_from(depot_edges)\n",
    "\n",
    "# TODO: step 3: label nodes according to their connected components\n",
    "connected_components = list(nx.connected_components(ktree))\n",
    "\n",
    "# TODO: step 4: add those depot_edges again\n",
    "# ktree = nx.Graph(mst)\n",
    "\n",
    "# TODO: step 5: REMEMBER ONLY COMPONENTS WITH 2+ EDGES TO DEPOT CAN BE DISCONNECTED\n",
    "# but they'll be changing during this execution\n",
    "# this is going to be a difficult but crucial step\n",
    "\n",
    "# TODO: step 6: for every edge between customers, compute a cost function w(c1, c2):\n",
    "# w(c1,c2) = G.get_edge_data(c1, c2)[\"weight\"] - depot_edges[0][2][\"weight\"] if label(c1) == label(c2)\n",
    "# else G.get_edge_data(c1, c2)[\"weight\"] - max(depot_edges[0][2][\"weight\"], depot_edge to label(c1)[\"weight\"], depot_edge to label(c2)[\"weight\"])\n",
    "# REMEMBER TO STORE THE COMBINATION PICKED (c1, c2, which depot_edge)\n",
    "\n",
    "# TODO: step 7: if min(w(c1,c2)) from label(c1) == label(c2):\n",
    "# remove depot_edges[0][2] from ktree\n",
    "# delete depot_edges[0][2]\n",
    "# ktree.add_edge(c1,c2,G.get_edge_data(c1, c2)[\"weight\"])\n",
    "# ??? maybe ktree.add_edge(G.edges(c1,c2)) ???\n",
    "# else:\n",
    "# remove depot_edge from ktree\n",
    "# delete depot_edge\n",
    "# add best edge (according to min(w(c1,c2))) to ktree\n",
    "# for all edges which label == label(c2): label = label(c1) since they're now connected"
   ]
  },
  {
   "cell_type": "code",
   "execution_count": 35,
   "metadata": {},
   "outputs": [
    {
     "data": {
      "image/png": "[encoded data removed]",
      "text/plain": [
       "<Figure size 432x288 with 1 Axes>"
      ]
     },
     "metadata": {},
     "output_type": "display_data"
    }
   ],
   "source": [
    "nx.draw(ktree, with_labels=True)"
   ]
  },
  {
   "cell_type": "code",
   "execution_count": 36,
   "metadata": {},
   "outputs": [
    {
     "data": {
      "image/png": "[encoded data removed]",
      "text/plain": [
       "<Figure size 432x288 with 1 Axes>"
      ]
     },
     "metadata": {},
     "output_type": "display_data"
    }
   ],
   "source": [
    "nx.draw(mst, with_labels=True)"
   ]
  },
  {
   "cell_type": "code",
   "execution_count": 37,
   "metadata": {},
   "outputs": [
    {
     "data": {
      "text/plain": [
       "[(0, 10, {'weight': 2.8284271247461903}),\n",
       " (0, 4, {'weight': 2.23606797749979}),\n",
       " (0, 6, {'weight': 2.23606797749979}),\n",
       " (0, 5, {'weight': 1.4142135623730951}),\n",
       " (0, 7, {'weight': 1.4142135623730951})]"
      ]
     },
     "execution_count": 37,
     "metadata": {},
     "output_type": "execute_result"
    }
   ],
   "source": [
    "depot_edges"
   ]
  },
  {
   "cell_type": "code",
   "execution_count": 28,
   "metadata": {},
   "outputs": [
    {
     "data": {
      "text/plain": [
       "[{0}, {1, 2, 3, 4, 5, 6, 8, 12}, {7}, {9, 10, 11}]"
      ]
     },
     "execution_count": 28,
     "metadata": {},
     "output_type": "execute_result"
    }
   ],
   "source": [
    "connected_components"
   ]
  },
  {
   "cell_type": "code",
   "execution_count": null,
   "metadata": {},
   "outputs": [],
   "source": [
    "while ktree.degree[0] < 2*k:\n",
    "    pass\n",
    "    # TODO: I have no idea \n",
    "\n",
    "assert ktree.degree[0] == 2*k\n",
    "for i in len(ktree.nodes):\n",
    "    assert ktree.degree[i] == 2\n",
    "\n",
    "return ktree"
   ]
  },
  {
   "cell_type": "code",
   "execution_count": 40,
   "metadata": {},
   "outputs": [],
   "source": [
    "def node_label(node: int, list_of_components: list):\n",
    "    for i in range(list_of_components):\n",
    "        if node in list_of_components[i]:\n",
    "            return i"
   ]
  },
  {
   "cell_type": "code",
   "execution_count": null,
   "metadata": {},
   "outputs": [],
   "source": [
    "# TODO: step 6: for every edge between customers, compute a cost function w(c1, c2):\n",
    "# w(c1,c2) = G.get_edge_data(c1, c2)[\"weight\"] - depot_edges[0][2][\"weight\"] if label(c1) == label(c2)\n",
    "# else G.get_edge_data(c1, c2)[\"weight\"] - max(depot_edges[0][2][\"weight\"], depot_edge to label(c1)[\"weight\"], depot_edge to label(c2)[\"weight\"])\n",
    "# REMEMBER TO STORE THE COMBINATION PICKED (c1, c2, which depot_edge)\n",
    "def cost_w(c1: int, c2: int):\n",
    "    if node_label(c1) == node_label(c2):\n",
    "        return (c1, c2, G.get_edge_data(c1, c2)[\"weight\"] - depot_edges[0][2][\"weight\"])\n",
    "    else:\n",
    "        return G.get_edge_data(c1, c2)[\"weight\"] - max(\n",
    "            depot_edges[0][2][\"weight\"],\n",
    "            depot_edge to node_label(c1)[\"weight\"],\n",
    "            depot_edge to node_label(c2)[\"weight\"])"
   ]
  },
  {
   "cell_type": "code",
   "execution_count": 41,
   "metadata": {},
   "outputs": [],
   "source": [
    "def get_distance_to_component(component: set) -> tuple:\n",
    "    values = [G.get_edge_data(0, component[i])[\"weight\"] for i in component]\n",
    "    index_min = min(xrange(len(values)), key=values.__getitem__)\n",
    "    return (index_min, values[index_min])"
   ]
  }
 ],
 "metadata": {
  "kernelspec": {
   "display_name": "Python 3",
   "language": "python",
   "name": "python3"
  },
  "language_info": {
   "codemirror_mode": {
    "name": "ipython",
    "version": 3
   },
   "file_extension": ".py",
   "mimetype": "text/x-python",
   "name": "python",
   "nbconvert_exporter": "python",
   "pygments_lexer": "ipython3",
   "version": "3.6.6"
  }
 },
 "nbformat": 4,
 "nbformat_minor": 2
}
