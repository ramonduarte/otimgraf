{
 "cells": [
  {
   "cell_type": "code",
   "execution_count": 30,
   "metadata": {},
   "outputs": [],
   "source": [
    "import networkx as nx\n",
    "import matplotlib.pyplot as plt\n",
    "import math\n",
    "import itertools\n",
    "from tqdm import tqdm_notebook as tqdm"
   ]
  },
  {
   "cell_type": "code",
   "execution_count": 2,
   "metadata": {},
   "outputs": [],
   "source": [
    "# smaller graph for exact algorithms\n",
    "_locations = \\\n",
    "      [(4, 4), # depot\n",
    "       (2, 0), (8, 0), # locations to visit\n",
    "       (3, 3), (6, 3),\n",
    "       (5, 5),\n",
    "       (1, 6),\n",
    "       (0, 8), (7, 8)]\n",
    "\n",
    "demands = [0, # depot\n",
    "         1, 1, # row 0\n",
    "         8, 8,\n",
    "         1,\n",
    "         1,\n",
    "         8, 8]\n",
    "\n",
    "capacities = [9, 9, 9, 9]\n",
    "\n",
    "time_windows = \\\n",
    "        [(0, 0),\n",
    "         (75, 85), (75, 85), # 1, 2\n",
    "         (0, 10), (10, 20), # 7, 8\n",
    "         (0, 10), # 9, 10\n",
    "         (85, 95),\n",
    "         (45, 55), (30, 40)] # 15, 16"
   ]
  },
  {
   "cell_type": "code",
   "execution_count": 3,
   "metadata": {},
   "outputs": [],
   "source": [
    "G = nx.Graph(instance=\"Google OR example\")\n",
    "\n",
    "for i in range(len(_locations)):\n",
    "    G.add_node(i, location=_locations[i], demand=demands[i], time_window=time_windows[i], status=0)\n",
    "\n",
    "for i in range(len(_locations)):\n",
    "    for j in range(len(_locations)):\n",
    "        if i >= j:\n",
    "            continue\n",
    "        G.add_edge(i, j,\n",
    "                   weight=math.sqrt(\n",
    "                       (_locations[i][0]-_locations[j][0])**2\n",
    "                       + (_locations[i][1]-_locations[j][1])**2))"
   ]
  },
  {
   "cell_type": "code",
   "execution_count": 95,
   "metadata": {},
   "outputs": [
    {
     "ename": "SyntaxError",
     "evalue": "invalid syntax (<ipython-input-95-4d989e97a2d1>, line 1)",
     "output_type": "error",
     "traceback": [
      "\u001b[0;36m  File \u001b[0;32m\"<ipython-input-95-4d989e97a2d1>\"\u001b[0;36m, line \u001b[0;32m1\u001b[0m\n\u001b[0;31m    def weight(node1: [float,float, node2: [float,float]):\u001b[0m\n\u001b[0m                                         ^\u001b[0m\n\u001b[0;31mSyntaxError\u001b[0m\u001b[0;31m:\u001b[0m invalid syntax\n"
     ]
    }
   ],
   "source": [
    "def weight(node1: [float,float], node2: [float,float]):\n",
    "    return math.sqrt((node1[0]-node2[0])**2\n",
    "              + (node1[1]-node2[1])**2)\n",
    "\n",
    "def powerset(iterable, lb=1):\n",
    "    \"powerset([1,2,3]) --> () (1,) (2,) (3,) (1,2) (1,3) (2,3) (1,2,3)\"\n",
    "    s = list(iterable)\n",
    "    return itertools.chain.from_iterable(itertools.combinations(s, r) for r in range(lb, len(s)+1))"
   ]
  },
  {
   "cell_type": "code",
   "execution_count": 53,
   "metadata": {},
   "outputs": [],
   "source": [
    "viable_routes = []\n",
    "total_capacity = sum(capacities)\n",
    "total_demand = sum(demands)\n",
    "lower_bound = total_demand % max(capacities) or max(capacities)\n",
    "\n",
    "for route in powerset(range(1, len(G.nodes))):\n",
    "    demand = 0\n",
    "    viable = True\n",
    "    for i in route:\n",
    "        if not viable:\n",
    "            continue\n",
    "        demand += demands[i]\n",
    "        if demand > max(capacities):\n",
    "            viable = False\n",
    "            break\n",
    "    else:\n",
    "        if demand >= lower_bound:\n",
    "            viable_routes += [[route, demand]]\n",
    "    "
   ]
  },
  {
   "cell_type": "code",
   "execution_count": 96,
   "metadata": {},
   "outputs": [
    {
     "data": {
      "text/plain": [
       "{'weight': 4.47213595499958}"
      ]
     },
     "execution_count": 96,
     "metadata": {},
     "output_type": "execute_result"
    }
   ],
   "source": [
    "G.get_edge_data(0,1)"
   ]
  },
  {
   "cell_type": "code",
   "execution_count": 108,
   "metadata": {},
   "outputs": [
    {
     "data": {
      "application/vnd.jupyter.widget-view+json": {
       "model_id": "0c147d2a77eb48868a145becd7117cb7",
       "version_major": 2,
       "version_minor": 0
      },
      "text/plain": [
       "HBox(children=(IntProgress(value=1, bar_style='info', max=1), HTML(value='')))"
      ]
     },
     "metadata": {},
     "output_type": "display_data"
    },
    {
     "data": {
      "text/plain": [
       "[([(1, 3), 9], [(2, 4), 9], [(5, 8), 9], [(6, 7), 9]), 12.609448188596147]"
      ]
     },
     "execution_count": 108,
     "metadata": {},
     "output_type": "execute_result"
    }
   ],
   "source": [
    "best_route = [[], 99999999999]\n",
    "limit = 1000\n",
    "for solution in tqdm(powerset(viable_routes)):\n",
    "    attended_demand = sum([x[1] for x in solution])\n",
    "    coverage = set(i for x in solution for i in x[0])\n",
    "    # limit -= 1\n",
    "    # if not limit:\n",
    "    #     break\n",
    "    # print (coverage)\n",
    "    if attended_demand == total_demand <= total_capacity and len(coverage) == len(G.nodes) - 1:\n",
    "        total_weight = sum([G.get_edge_data(x[0][i], x[0][i+1])[\"weight\"] for x in solution for i in range(len(x[0])-1)])\n",
    "        if total_weight < best_route[1]:\n",
    "            best_route = [solution, total_weight]\n",
    "best_route"
   ]
  },
  {
   "cell_type": "code",
   "execution_count": null,
   "metadata": {},
   "outputs": [],
   "source": []
  },
  {
   "cell_type": "code",
   "execution_count": 74,
   "metadata": {},
   "outputs": [
    {
     "data": {
      "text/plain": [
       "{1, 2, 3, 4, 5, 6}"
      ]
     },
     "execution_count": 74,
     "metadata": {},
     "output_type": "execute_result"
    }
   ],
   "source": [
    "x = [(1,2,3), (2,4), (4,5,6)]\n",
    "set(i for sub in x for i in sub)"
   ]
  },
  {
   "cell_type": "code",
   "execution_count": 102,
   "metadata": {},
   "outputs": [
    {
     "data": {
      "text/plain": [
       "87.153064201754"
      ]
     },
     "execution_count": 102,
     "metadata": {},
     "output_type": "execute_result"
    }
   ],
   "source": [
    "total_weight = sum([G.get_edge_data(x[0][i], x[0][i+1])[\"weight\"] for x in solution for i in range(len(x[0])-1)])\n",
    "total_weight"
   ]
  },
  {
   "cell_type": "code",
   "execution_count": 106,
   "metadata": {},
   "outputs": [
    {
     "data": {
      "text/plain": [
       "([(1, 8), 9], [(2, 7), 9], [(3, 6), 9], [(4, 5), 9])"
      ]
     },
     "execution_count": 106,
     "metadata": {},
     "output_type": "execute_result"
    }
   ],
   "source": [
    "best_route\n"
   ]
  }
 ],
 "metadata": {
  "kernelspec": {
   "display_name": "Python 3",
   "language": "python",
   "name": "python3"
  },
  "language_info": {
   "codemirror_mode": {
    "name": "ipython",
    "version": 3
   },
   "file_extension": ".py",
   "mimetype": "text/x-python",
   "name": "python",
   "nbconvert_exporter": "python",
   "pygments_lexer": "ipython3",
   "version": "3.6.5"
  }
 },
 "nbformat": 4,
 "nbformat_minor": 2
}
